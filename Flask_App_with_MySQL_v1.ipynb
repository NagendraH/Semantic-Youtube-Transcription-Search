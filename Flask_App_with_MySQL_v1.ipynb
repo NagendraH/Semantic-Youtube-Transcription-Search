{
  "nbformat": 4,
  "nbformat_minor": 0,
  "metadata": {
    "kernelspec": {
      "language": "python",
      "display_name": "Python 3",
      "name": "python3"
    },
    "language_info": {
      "pygments_lexer": "ipython3",
      "nbconvert_exporter": "python",
      "version": "3.6.4",
      "file_extension": ".py",
      "codemirror_mode": {
        "name": "ipython",
        "version": 3
      },
      "name": "python",
      "mimetype": "text/x-python"
    },
    "colab": {
      "name": "Flask_App_with_MySQL v1.ipynb",
      "provenance": [],
      "collapsed_sections": []
    },
    "accelerator": "GPU"
  },
  "cells": [
    {
      "cell_type": "markdown",
      "metadata": {
        "id": "q1TIbKFcMaxl"
      },
      "source": [
        "# **Semantic Textual Similarity Model**"
      ]
    },
    {
      "cell_type": "code",
      "metadata": {
        "colab": {
          "base_uri": "https://localhost:8080/"
        },
        "id": "rDodAnHsAMti",
        "outputId": "e7c05084-a197-4b2b-c45b-f746abb745f8"
      },
      "source": [
        "from google.colab import drive\r\n",
        "drive.mount('/content/drive')"
      ],
      "execution_count": null,
      "outputs": [
        {
          "output_type": "stream",
          "text": [
            "Mounted at /content/drive\n"
          ],
          "name": "stdout"
        }
      ]
    },
    {
      "cell_type": "code",
      "metadata": {
        "id": "ahRrappR_xOK"
      },
      "source": [
        "import numpy as np # linear algebra\r\n",
        "import pandas as pd # data processing, CSV file I/O (e.g. pd.read_csv)\r\n",
        "from keras.preprocessing.text import Tokenizer\r\n",
        "from keras.preprocessing.sequence import pad_sequences\r\n",
        "from nltk.tokenize import word_tokenize\r\n",
        "import re\r\n",
        "from nltk.stem import WordNetLemmatizer\r\n",
        "from nltk.corpus import stopwords\r\n",
        "import tensorflow as tf\r\n",
        "from tensorflow.keras.layers import *\r\n",
        "from tensorflow.keras.models import Model"
      ],
      "execution_count": 2,
      "outputs": []
    },
    {
      "cell_type": "code",
      "metadata": {
        "id": "otFhxZPQ57iI"
      },
      "source": [
        "import pickle\r\n",
        "\r\n",
        "# saving\r\n",
        "#with open('tokenizer.pickle', 'wb') as handle:\r\n",
        "    #pickle.dump(tokenizer, handle, protocol=pickle.HIGHEST_PROTOCOL)\r\n",
        "\r\n",
        "# loading\r\n",
        "with open('/content/drive/MyDrive/Youtube-semantice-search/tokenizer.pickle', 'rb') as handle:\r\n",
        "    tokenizer = pickle.load(handle)"
      ],
      "execution_count": 3,
      "outputs": []
    },
    {
      "cell_type": "code",
      "metadata": {
        "id": "h4upBNxvBe68"
      },
      "source": [
        "from keras import backend as K"
      ],
      "execution_count": 4,
      "outputs": []
    },
    {
      "cell_type": "code",
      "metadata": {
        "trusted": true,
        "id": "HuscPGUeIFmK"
      },
      "source": [
        "\n",
        "def exponent_neg_manhattan_distance(left, right):\n",
        "    ''' Helper function for the similarity estimate of the LSTMs outputs'''\n",
        "    return K.exp(-K.sum(K.abs(left-right), axis=1, keepdims=True))\n"
      ],
      "execution_count": 5,
      "outputs": []
    },
    {
      "cell_type": "code",
      "metadata": {
        "trusted": true,
        "id": "7ZUt0wj9IFmP"
      },
      "source": [
        "max_seq_length=30"
      ],
      "execution_count": 6,
      "outputs": []
    },
    {
      "cell_type": "code",
      "metadata": {
        "trusted": true,
        "id": "1j3Zyo_JIFmT"
      },
      "source": [
        "from keras.models import Model\n",
        "from keras.optimizers import Adadelta"
      ],
      "execution_count": 7,
      "outputs": []
    },
    {
      "cell_type": "code",
      "metadata": {
        "trusted": true,
        "id": "VgzpqA91IFnB"
      },
      "source": [
        "from keras.models import load_model\n",
        "malstm=load_model('/content/drive/MyDrive/Youtube-semantice-search/quora.h5')"
      ],
      "execution_count": 8,
      "outputs": []
    },
    {
      "cell_type": "code",
      "metadata": {
        "trusted": true,
        "id": "1SATR3BQIFnE",
        "colab": {
          "base_uri": "https://localhost:8080/"
        },
        "outputId": "514f5803-6dc8-4f88-ebdf-e6acd386546a"
      },
      "source": [
        "malstm.summary()"
      ],
      "execution_count": 9,
      "outputs": [
        {
          "output_type": "stream",
          "text": [
            "Model: \"model\"\n",
            "__________________________________________________________________________________________________\n",
            "Layer (type)                    Output Shape         Param #     Connected to                     \n",
            "==================================================================================================\n",
            "input_1 (InputLayer)            [(None, 30)]         0                                            \n",
            "__________________________________________________________________________________________________\n",
            "input_2 (InputLayer)            [(None, 30)]         0                                            \n",
            "__________________________________________________________________________________________________\n",
            "embedding (Embedding)           (None, 30, 200)      17223800    input_1[0][0]                    \n",
            "                                                                 input_2[0][0]                    \n",
            "__________________________________________________________________________________________________\n",
            "lstm (LSTM)                     (None, 50)           50200       embedding[0][0]                  \n",
            "                                                                 embedding[1][0]                  \n",
            "__________________________________________________________________________________________________\n",
            "lambda (Lambda)                 (None, 1)            0           lstm[0][0]                       \n",
            "                                                                 lstm[1][0]                       \n",
            "==================================================================================================\n",
            "Total params: 17,274,000\n",
            "Trainable params: 50,200\n",
            "Non-trainable params: 17,223,800\n",
            "__________________________________________________________________________________________________\n"
          ],
          "name": "stdout"
        }
      ]
    },
    {
      "cell_type": "markdown",
      "metadata": {
        "id": "cM3UhfgdMUEG"
      },
      "source": [
        "# **Collecting Timestamps**"
      ]
    },
    {
      "cell_type": "code",
      "metadata": {
        "trusted": true,
        "id": "mipZKyYYIFnj",
        "colab": {
          "base_uri": "https://localhost:8080/"
        },
        "outputId": "d149594f-212b-44dd-9562-5aecf56f9308"
      },
      "source": [
        "!pip install youtube-transcript-api"
      ],
      "execution_count": 10,
      "outputs": [
        {
          "output_type": "stream",
          "text": [
            "Collecting youtube-transcript-api\n",
            "  Downloading https://files.pythonhosted.org/packages/21/81/c4ae5534b113f4938b482f360babbbe6fda550441a4af8e1007dba518586/youtube_transcript_api-0.3.1-py3-none-any.whl\n",
            "Requirement already satisfied: requests in /usr/local/lib/python3.6/dist-packages (from youtube-transcript-api) (2.23.0)\n",
            "Requirement already satisfied: certifi>=2017.4.17 in /usr/local/lib/python3.6/dist-packages (from requests->youtube-transcript-api) (2020.12.5)\n",
            "Requirement already satisfied: idna<3,>=2.5 in /usr/local/lib/python3.6/dist-packages (from requests->youtube-transcript-api) (2.10)\n",
            "Requirement already satisfied: chardet<4,>=3.0.2 in /usr/local/lib/python3.6/dist-packages (from requests->youtube-transcript-api) (3.0.4)\n",
            "Requirement already satisfied: urllib3!=1.25.0,!=1.25.1,<1.26,>=1.21.1 in /usr/local/lib/python3.6/dist-packages (from requests->youtube-transcript-api) (1.24.3)\n",
            "Installing collected packages: youtube-transcript-api\n",
            "Successfully installed youtube-transcript-api-0.3.1\n"
          ],
          "name": "stdout"
        }
      ]
    },
    {
      "cell_type": "code",
      "metadata": {
        "id": "r0pYdsF5Nq8N"
      },
      "source": [
        "#drive.mount(\"/content/drive\", force_remount=True)"
      ],
      "execution_count": 11,
      "outputs": []
    },
    {
      "cell_type": "code",
      "metadata": {
        "trusted": true,
        "id": "hehh6U4r9Tbh"
      },
      "source": [
        "#!pip install --upgrade pip"
      ],
      "execution_count": 12,
      "outputs": []
    },
    {
      "cell_type": "code",
      "metadata": {
        "trusted": true,
        "id": "-27bekx19Tbh"
      },
      "source": [
        "from youtube_transcript_api import YouTubeTranscriptApi\n",
        "\n",
        "#data=YouTubeTranscriptApi.get_transcript('pQJvyMIvW8s')"
      ],
      "execution_count": 13,
      "outputs": []
    },
    {
      "cell_type": "code",
      "metadata": {
        "trusted": true,
        "id": "N4-vLj5H9Tbh",
        "colab": {
          "base_uri": "https://localhost:8080/",
          "height": 68
        },
        "outputId": "cd2b5804-018c-4f8d-b585-63e51b76da81"
      },
      "source": [
        "'''time=[]\n",
        "transcripts=[]\n",
        "for values in data:\n",
        "    for key,value in values.items():\n",
        "        if(key==\"text\"):\n",
        "            transcripts.append(value)\n",
        "        if(key==\"start\"):\n",
        "            time.append(value)'''\n",
        "        "
      ],
      "execution_count": 14,
      "outputs": [
        {
          "output_type": "execute_result",
          "data": {
            "application/vnd.google.colaboratory.intrinsic+json": {
              "type": "string"
            },
            "text/plain": [
              "'time=[]\\ntranscripts=[]\\nfor values in data:\\n    for key,value in values.items():\\n        if(key==\"text\"):\\n            transcripts.append(value)\\n        if(key==\"start\"):\\n            time.append(value)'"
            ]
          },
          "metadata": {
            "tags": []
          },
          "execution_count": 14
        }
      ]
    },
    {
      "cell_type": "code",
      "metadata": {
        "trusted": true,
        "id": "H3drHWRo9Tbi"
      },
      "source": [
        "#transcripts"
      ],
      "execution_count": 15,
      "outputs": []
    },
    {
      "cell_type": "code",
      "metadata": {
        "trusted": true,
        "id": "jRdV-Blf9Tbi"
      },
      "source": [
        "#time"
      ],
      "execution_count": 16,
      "outputs": []
    },
    {
      "cell_type": "code",
      "metadata": {
        "trusted": true,
        "id": "3kZwJqI79Tbj"
      },
      "source": [
        "#q1 = tokenizer.texts_to_sequences(np.array(transcripts))\n",
        "#q1 = pad_sequences(q1, maxlen = 30, padding='post')"
      ],
      "execution_count": 17,
      "outputs": []
    },
    {
      "cell_type": "code",
      "metadata": {
        "trusted": true,
        "id": "6zEjGXWE9Tbj"
      },
      "source": [
        "#q3 = tokenizer.texts_to_sequences(np.array([\"Traffic\"]))\n",
        "#q3 = pad_sequences(q3, maxlen = 30, padding='post')"
      ],
      "execution_count": 18,
      "outputs": []
    },
    {
      "cell_type": "code",
      "metadata": {
        "trusted": true,
        "id": "xtiVRQG69Tbj"
      },
      "source": [
        "#p=[]"
      ],
      "execution_count": 19,
      "outputs": []
    },
    {
      "cell_type": "code",
      "metadata": {
        "trusted": true,
        "id": "oa93TN8-9Tbj",
        "colab": {
          "base_uri": "https://localhost:8080/",
          "height": 35
        },
        "outputId": "003acc76-f398-4324-aa38-aea87dd0a60f"
      },
      "source": [
        "'''for i in range(30):\n",
        "    p.append(malstm.predict([q3[0],q1[i]]))'''"
      ],
      "execution_count": 20,
      "outputs": [
        {
          "output_type": "execute_result",
          "data": {
            "application/vnd.google.colaboratory.intrinsic+json": {
              "type": "string"
            },
            "text/plain": [
              "'for i in range(30):\\n    p.append(malstm.predict([q3[0],q1[i]]))'"
            ]
          },
          "metadata": {
            "tags": []
          },
          "execution_count": 20
        }
      ]
    },
    {
      "cell_type": "code",
      "metadata": {
        "trusted": true,
        "id": "9wwz0OhZ9Tbk",
        "colab": {
          "base_uri": "https://localhost:8080/",
          "height": 51
        },
        "outputId": "c15868eb-c7ea-4af3-d4ab-2c2c7dca398d"
      },
      "source": [
        "'''s=[]\n",
        "print(q3[0])\n",
        "for i in range(len(p)):\n",
        "    if(np.mean(np.array(p[i]))>0.1):\n",
        "        print(transcripts[i],np.mean(np.array(p[i])))\n",
        "        s.append(np.mean(np.array(p[i])))'''"
      ],
      "execution_count": 21,
      "outputs": [
        {
          "output_type": "execute_result",
          "data": {
            "application/vnd.google.colaboratory.intrinsic+json": {
              "type": "string"
            },
            "text/plain": [
              "'s=[]\\nprint(q3[0])\\nfor i in range(len(p)):\\n    if(np.mean(np.array(p[i]))>0.1):\\n        print(transcripts[i],np.mean(np.array(p[i])))\\n        s.append(np.mean(np.array(p[i])))'"
            ]
          },
          "metadata": {
            "tags": []
          },
          "execution_count": 21
        }
      ]
    },
    {
      "cell_type": "code",
      "metadata": {
        "trusted": true,
        "id": "q0Hha1Bz9Tbk"
      },
      "source": [
        "#s"
      ],
      "execution_count": 22,
      "outputs": []
    },
    {
      "cell_type": "code",
      "metadata": {
        "trusted": true,
        "id": "nsvTVQq_9Tbl",
        "colab": {
          "base_uri": "https://localhost:8080/",
          "height": 35
        },
        "outputId": "198c07e5-4139-4d61-f39e-6c42b12a04d2"
      },
      "source": [
        "'''sort_index = np.argsort(s) \n",
        "\n",
        "\n",
        "sort_index=list(sort_index)\n",
        "sort_index.reverse()'''"
      ],
      "execution_count": 23,
      "outputs": [
        {
          "output_type": "execute_result",
          "data": {
            "application/vnd.google.colaboratory.intrinsic+json": {
              "type": "string"
            },
            "text/plain": [
              "'sort_index = np.argsort(s) \\n\\n\\nsort_index=list(sort_index)\\nsort_index.reverse()'"
            ]
          },
          "metadata": {
            "tags": []
          },
          "execution_count": 23
        }
      ]
    },
    {
      "cell_type": "code",
      "metadata": {
        "trusted": true,
        "id": "2sAd0VSA9Tbl"
      },
      "source": [
        "#sort_index"
      ],
      "execution_count": 24,
      "outputs": []
    },
    {
      "cell_type": "code",
      "metadata": {
        "trusted": true,
        "id": "tYUMFxG99Tbl"
      },
      "source": [
        "#for i in sort_index:\n",
        "#    print(transcripts[i],time[i])"
      ],
      "execution_count": 25,
      "outputs": []
    },
    {
      "cell_type": "code",
      "metadata": {
        "trusted": true,
        "id": "s4xapmh59Tbm"
      },
      "source": [
        "#youtubeid='pQJvyMIvW8s'"
      ],
      "execution_count": 26,
      "outputs": []
    },
    {
      "cell_type": "code",
      "metadata": {
        "trusted": true,
        "id": "tv7CuhPr9Tbm"
      },
      "source": [
        "#link='https://youtu.be/'+youtubeid+'?t='+str(round(time[3]))\n",
        "#print(link)"
      ],
      "execution_count": 27,
      "outputs": []
    },
    {
      "cell_type": "code",
      "metadata": {
        "trusted": true,
        "id": "X3j4OepT9Tbm"
      },
      "source": [
        "#!git clone https://github.com/NagendraH/SKINCANCER6.git"
      ],
      "execution_count": 28,
      "outputs": []
    },
    {
      "cell_type": "markdown",
      "metadata": {
        "id": "OfMAEBOBMGI7"
      },
      "source": [
        "# **Making flask App**"
      ]
    },
    {
      "cell_type": "code",
      "metadata": {
        "colab": {
          "base_uri": "https://localhost:8080/"
        },
        "id": "5zfeicJcKdOO",
        "outputId": "735cc244-689e-4dba-c0a1-fe276e290d8b"
      },
      "source": [
        "!pip install flask-ngrok"
      ],
      "execution_count": 29,
      "outputs": [
        {
          "output_type": "stream",
          "text": [
            "Collecting flask-ngrok\n",
            "  Downloading https://files.pythonhosted.org/packages/af/6c/f54cb686ad1129e27d125d182f90f52b32f284e6c8df58c1bae54fa1adbc/flask_ngrok-0.0.25-py3-none-any.whl\n",
            "Requirement already satisfied: requests in /usr/local/lib/python3.6/dist-packages (from flask-ngrok) (2.23.0)\n",
            "Requirement already satisfied: Flask>=0.8 in /usr/local/lib/python3.6/dist-packages (from flask-ngrok) (1.1.2)\n",
            "Requirement already satisfied: chardet<4,>=3.0.2 in /usr/local/lib/python3.6/dist-packages (from requests->flask-ngrok) (3.0.4)\n",
            "Requirement already satisfied: idna<3,>=2.5 in /usr/local/lib/python3.6/dist-packages (from requests->flask-ngrok) (2.10)\n",
            "Requirement already satisfied: urllib3!=1.25.0,!=1.25.1,<1.26,>=1.21.1 in /usr/local/lib/python3.6/dist-packages (from requests->flask-ngrok) (1.24.3)\n",
            "Requirement already satisfied: certifi>=2017.4.17 in /usr/local/lib/python3.6/dist-packages (from requests->flask-ngrok) (2020.12.5)\n",
            "Requirement already satisfied: click>=5.1 in /usr/local/lib/python3.6/dist-packages (from Flask>=0.8->flask-ngrok) (7.1.2)\n",
            "Requirement already satisfied: Werkzeug>=0.15 in /usr/local/lib/python3.6/dist-packages (from Flask>=0.8->flask-ngrok) (1.0.1)\n",
            "Requirement already satisfied: Jinja2>=2.10.1 in /usr/local/lib/python3.6/dist-packages (from Flask>=0.8->flask-ngrok) (2.11.2)\n",
            "Requirement already satisfied: itsdangerous>=0.24 in /usr/local/lib/python3.6/dist-packages (from Flask>=0.8->flask-ngrok) (1.1.0)\n",
            "Requirement already satisfied: MarkupSafe>=0.23 in /usr/local/lib/python3.6/dist-packages (from Jinja2>=2.10.1->Flask>=0.8->flask-ngrok) (1.1.1)\n",
            "Installing collected packages: flask-ngrok\n",
            "Successfully installed flask-ngrok-0.0.25\n"
          ],
          "name": "stdout"
        }
      ]
    },
    {
      "cell_type": "code",
      "metadata": {
        "id": "YywoD_ZfCaTD"
      },
      "source": [
        "youtubeid='pQJvyMIvW8s'"
      ],
      "execution_count": 30,
      "outputs": []
    },
    {
      "cell_type": "code",
      "metadata": {
        "trusted": true,
        "colab": {
          "base_uri": "https://localhost:8080/"
        },
        "id": "-e_ZpjFl9Tbn",
        "outputId": "0c58fa4c-6c03-43f1-80ee-e3f0f1bc3004"
      },
      "source": [
        "from flask import Flask\r\n",
        "from flask import Flask, redirect, url_for\r\n",
        "from flask_ngrok import run_with_ngrok\r\n",
        "from flask import render_template\r\n",
        "from flask import request\r\n",
        "import h5py\r\n",
        "from flaskext.mysql import MySQL\r\n",
        "\r\n",
        "app = Flask(__name__)\r\n",
        "\r\n",
        "mysql = MySQL()\r\n",
        "app.config['MYSQL_DATABASE_USER'] = \"u9fwcv0v3gajj3ky\"\r\n",
        "app.config['MYSQL_DATABASE_PASSWORD'] = \"qzgorFn5oXvosBhJs7t9\"\r\n",
        "app.config['MYSQL_DATABASE_DB'] = \"bff29zhocbsecefuqe3p\"\r\n",
        "app.config['MYSQL_DATABASE_HOST'] = \"bff29zhocbsecefuqe3p-mysql.services.clever-cloud.com\"\r\n",
        "mysql.init_app(app)\r\n",
        "yid1=''\r\n",
        "yid=''\r\n",
        "temp1=''\r\n",
        "run_with_ngrok(app)\r\n",
        "'''@app.route('/<string:insert>')\r\n",
        "def add(insert):\r\n",
        "    sql = \"select *from user;\"\r\n",
        "    conn = mysql.connect()\r\n",
        "    cursor =conn.cursor()\r\n",
        "    cursor.execute(sql)\r\n",
        "    data=cursor.fetchall()\r\n",
        "    print(data)\r\n",
        "    return render_template('display.html',data=data)'''\r\n",
        "    \r\n",
        "@app.route(\"/\",methods=['post', 'get'])\r\n",
        "def upload_predict():\r\n",
        "    l={}\r\n",
        "    global yid1\r\n",
        "    global yid\r\n",
        "    global temp1\r\n",
        "    transcripts1=[]\r\n",
        "    if request.method == 'POST':\r\n",
        "        if request.form.get(\"submit_b\"):\r\n",
        "            option = \" \".join(map(str,(request.form['options'])))\r\n",
        "            print(option)\r\n",
        "            print(yid)\r\n",
        "            sql = \"INSERT INTO user (question1, question2) VALUES (%s, %s);\"\r\n",
        "            val = (yid,option)\r\n",
        "            #print(s1[i])\r\n",
        "            conn = mysql.connect()\r\n",
        "            cursor =conn.cursor()\r\n",
        "            cursor.execute(sql, val)\r\n",
        "            conn.commit()\r\n",
        "            sql = \"select *from user;\"\r\n",
        "            conn = mysql.connect()\r\n",
        "            cursor =conn.cursor()\r\n",
        "            cursor.execute(sql)\r\n",
        "            temp=cursor.fetchall()\r\n",
        "            print(temp)\r\n",
        "        \r\n",
        "\r\n",
        "        if request.form.get(\"submit_a\"):\r\n",
        "            data=YouTubeTranscriptApi.get_transcript('pQJvyMIvW8s')\r\n",
        "            time1=[]\r\n",
        "            transcripts1=[]\r\n",
        "            for values in data:\r\n",
        "                for key,value in values.items():\r\n",
        "                    if(key==\"text\"):\r\n",
        "                        transcripts1.append(value)\r\n",
        "                    if(key==\"start\"):\r\n",
        "                        time1.append(value)\r\n",
        "        if(request.form.get('gsearch1')!=None):\r\n",
        "            #print(yid1)\r\n",
        "            yid1=str(request.form.get('gsearch1'))\r\n",
        "            temp1='https://www.youtube.com/embed/'+yid1[24:]\r\n",
        "        if(request.form.get('gsearch2')!=None):\r\n",
        "            yid = request.form.get('gsearch2')\r\n",
        "            #print(yid)\r\n",
        "            data=YouTubeTranscriptApi.get_transcript(str(yid1[24:]))\r\n",
        "            time=[]\r\n",
        "            transcripts=[]\r\n",
        "            for values in data:\r\n",
        "                for key,value in values.items():\r\n",
        "                    if(key==\"text\"):\r\n",
        "                        transcripts.append(value)\r\n",
        "                    if(key==\"start\"):\r\n",
        "                        time.append(value)\r\n",
        "            q1 = tokenizer.texts_to_sequences(np.array(transcripts))\r\n",
        "            q1 = pad_sequences(q1, maxlen = 30, padding='post')\r\n",
        "            q3 = tokenizer.texts_to_sequences(np.array([str(yid)]))\r\n",
        "            q3 = pad_sequences(q3, maxlen = 30, padding='post')\r\n",
        "            p=[]\r\n",
        "            for i in range(30):\r\n",
        "                p.append(malstm.predict([q3[0],q1[i]]))\r\n",
        "            s=[]\r\n",
        "            print(q3[0])\r\n",
        "            for i in range(len(p)):\r\n",
        "                if(np.mean(np.array(p[i]))>0.1):\r\n",
        "                    #print(transcripts[i],np.mean(np.array(p[i])))\r\n",
        "                    s.append(np.mean(np.array(p[i])))\r\n",
        "            sort_index = np.argsort(s) \r\n",
        "            sort_index=list(sort_index)\r\n",
        "            sort_index.reverse()\r\n",
        "            l={}\r\n",
        "            for i in sort_index[:4]:\r\n",
        "                l[transcripts[i]]=(temp1+'?autoplay=1&start='+str(round(time[i])))\r\n",
        "                \r\n",
        "    print(temp1)\r\n",
        "    return render_template('index.html', result = l,id=temp1,transcripts1=transcripts1)\r\n",
        "    \r\n",
        "\r\n",
        "if __name__==\"__main__\":\r\n",
        "  app.run()"
      ],
      "execution_count": 82,
      "outputs": [
        {
          "output_type": "stream",
          "text": [
            " * Serving Flask app \"__main__\" (lazy loading)\n",
            " * Environment: production\n",
            "\u001b[31m   WARNING: This is a development server. Do not use it in a production deployment.\u001b[0m\n",
            "\u001b[2m   Use a production WSGI server instead.\u001b[0m\n",
            " * Debug mode: off\n"
          ],
          "name": "stdout"
        },
        {
          "output_type": "stream",
          "text": [
            " * Running on http://127.0.0.1:5000/ (Press CTRL+C to quit)\n"
          ],
          "name": "stderr"
        },
        {
          "output_type": "stream",
          "text": [
            " * Running on http://9f5d76da7ad3.ngrok.io\n",
            " * Traffic stats available on http://127.0.0.1:4040\n"
          ],
          "name": "stdout"
        }
      ]
    },
    {
      "cell_type": "code",
      "metadata": {
        "id": "pM_1q_7vDV-w"
      },
      "source": [
        "#from google.colab import drive\n",
        "#drive.mount('/content/drive')"
      ],
      "execution_count": 32,
      "outputs": []
    },
    {
      "cell_type": "code",
      "metadata": {
        "colab": {
          "base_uri": "https://localhost:8080/"
        },
        "id": "SHZN9tLODbeZ",
        "outputId": "e2803dd3-e7f9-470c-88d0-6e07b6011609"
      },
      "source": [
        "drive.mount(\"/content/drive\", force_remount=True)"
      ],
      "execution_count": 33,
      "outputs": [
        {
          "output_type": "stream",
          "text": [
            "Mounted at /content/drive\n"
          ],
          "name": "stdout"
        }
      ]
    },
    {
      "cell_type": "markdown",
      "metadata": {
        "id": "jKRyXwa6LrUb"
      },
      "source": [
        "# **Connecting with the database and training data from database**\r\n"
      ]
    },
    {
      "cell_type": "code",
      "metadata": {
        "trusted": true,
        "colab": {
          "base_uri": "https://localhost:8080/"
        },
        "id": "ojnQu61i9Tbn",
        "outputId": "d2d42d31-c042-418b-ff41-f3ec21701bf2"
      },
      "source": [
        "!pip install flask-mysql"
      ],
      "execution_count": 34,
      "outputs": [
        {
          "output_type": "stream",
          "text": [
            "Collecting flask-mysql\n",
            "  Downloading https://files.pythonhosted.org/packages/b6/18/3019b9a8d48fcee24e79a6c3de3f5d05e1b33dac8c49638a4cbcc7b4ddf9/Flask_MySQL-1.5.2-py2.py3-none-any.whl\n",
            "Requirement already satisfied: Flask in /usr/local/lib/python3.6/dist-packages (from flask-mysql) (1.1.2)\n",
            "Collecting PyMySQL\n",
            "\u001b[?25l  Downloading https://files.pythonhosted.org/packages/4f/52/a115fe175028b058df353c5a3d5290b71514a83f67078a6482cff24d6137/PyMySQL-1.0.2-py3-none-any.whl (43kB)\n",
            "\u001b[K     |████████████████████████████████| 51kB 6.5MB/s \n",
            "\u001b[?25hRequirement already satisfied: itsdangerous>=0.24 in /usr/local/lib/python3.6/dist-packages (from Flask->flask-mysql) (1.1.0)\n",
            "Requirement already satisfied: Jinja2>=2.10.1 in /usr/local/lib/python3.6/dist-packages (from Flask->flask-mysql) (2.11.2)\n",
            "Requirement already satisfied: Werkzeug>=0.15 in /usr/local/lib/python3.6/dist-packages (from Flask->flask-mysql) (1.0.1)\n",
            "Requirement already satisfied: click>=5.1 in /usr/local/lib/python3.6/dist-packages (from Flask->flask-mysql) (7.1.2)\n",
            "Requirement already satisfied: MarkupSafe>=0.23 in /usr/local/lib/python3.6/dist-packages (from Jinja2>=2.10.1->Flask->flask-mysql) (1.1.1)\n",
            "Installing collected packages: PyMySQL, flask-mysql\n",
            "Successfully installed PyMySQL-1.0.2 flask-mysql-1.5.2\n"
          ],
          "name": "stdout"
        }
      ]
    },
    {
      "cell_type": "code",
      "metadata": {
        "id": "Glp22lk4fEv9"
      },
      "source": [
        "from flaskext.mysql import MySQL\r\n",
        "\r\n",
        "app = Flask(__name__)\r\n",
        "mysql = MySQL()\r\n",
        "app.config['MYSQL_DATABASE_USER'] = \"u9fwcv0v3gajj3ky\"\r\n",
        "app.config['MYSQL_DATABASE_PASSWORD'] = \"qzgorFn5oXvosBhJs7t9\"\r\n",
        "app.config['MYSQL_DATABASE_DB'] = \"bff29zhocbsecefuqe3p\"\r\n",
        "app.config['MYSQL_DATABASE_HOST'] = \"bff29zhocbsecefuqe3p-mysql.services.clever-cloud.com\"\r\n",
        "mysql.init_app(app)"
      ],
      "execution_count": 35,
      "outputs": []
    },
    {
      "cell_type": "code",
      "metadata": {
        "id": "nkGFZGm-rlIP"
      },
      "source": [
        "conn = mysql.connect()\r\n",
        "cursor =conn.cursor()"
      ],
      "execution_count": 36,
      "outputs": []
    },
    {
      "cell_type": "code",
      "metadata": {
        "colab": {
          "base_uri": "https://localhost:8080/"
        },
        "id": "NobtMs6efW9T",
        "outputId": "370e2f18-a574-449d-d01b-5c36c989281a"
      },
      "source": [
        "\r\n",
        "\r\n",
        "\r\n",
        "query = \"Alter TABLE user modify question1  VARCHAR(2000),modify question2 VARCHAR(2000);\"\r\n",
        "cursor.execute(query)"
      ],
      "execution_count": 37,
      "outputs": [
        {
          "output_type": "execute_result",
          "data": {
            "text/plain": [
              "0"
            ]
          },
          "metadata": {
            "tags": []
          },
          "execution_count": 37
        }
      ]
    },
    {
      "cell_type": "code",
      "metadata": {
        "colab": {
          "base_uri": "https://localhost:8080/"
        },
        "id": "OsLRUaZ6n0ur",
        "outputId": "1621ac95-0c34-4bb3-a40f-c44fb9328922"
      },
      "source": [
        "query = \"show tables;\"\r\n",
        "cursor.execute(query)"
      ],
      "execution_count": 38,
      "outputs": [
        {
          "output_type": "execute_result",
          "data": {
            "text/plain": [
              "1"
            ]
          },
          "metadata": {
            "tags": []
          },
          "execution_count": 38
        }
      ]
    },
    {
      "cell_type": "code",
      "metadata": {
        "colab": {
          "base_uri": "https://localhost:8080/"
        },
        "id": "YQUq-LOkoSXh",
        "outputId": "ee4f255b-5ab9-49e3-f2ec-e4693d389ba6"
      },
      "source": [
        "print(cursor)"
      ],
      "execution_count": 39,
      "outputs": [
        {
          "output_type": "stream",
          "text": [
            "<pymysql.cursors.Cursor object at 0x7f56e1d91b00>\n"
          ],
          "name": "stdout"
        }
      ]
    },
    {
      "cell_type": "code",
      "metadata": {
        "colab": {
          "base_uri": "https://localhost:8080/"
        },
        "id": "RAlmEIk6fbEI",
        "outputId": "9c1d0b00-3fd8-4b60-b4e6-3055c2ac84a7"
      },
      "source": [
        "for row in cursor:\r\n",
        "  print(row)"
      ],
      "execution_count": null,
      "outputs": [
        {
          "output_type": "stream",
          "text": [
            "('user',)\n"
          ],
          "name": "stdout"
        }
      ]
    },
    {
      "cell_type": "code",
      "metadata": {
        "colab": {
          "base_uri": "https://localhost:8080/",
          "height": 35
        },
        "id": "vwuDtgBUgQRE",
        "outputId": "6eaf901c-b308-4b1b-b276-ca9cdcc8fa27"
      },
      "source": [
        "s1[0]"
      ],
      "execution_count": null,
      "outputs": [
        {
          "output_type": "execute_result",
          "data": {
            "application/vnd.google.colaboratory.intrinsic+json": {
              "type": "string"
            },
            "text/plain": [
              "'How do I structure a big PHP project?'"
            ]
          },
          "metadata": {
            "tags": []
          },
          "execution_count": 75
        }
      ]
    },
    {
      "cell_type": "code",
      "metadata": {
        "colab": {
          "base_uri": "https://localhost:8080/",
          "height": 35
        },
        "id": "7gGTQMA_rq7w",
        "outputId": "43285fe1-7585-449d-c67f-242e427364c2"
      },
      "source": [
        "s2[0]"
      ],
      "execution_count": null,
      "outputs": [
        {
          "output_type": "execute_result",
          "data": {
            "application/vnd.google.colaboratory.intrinsic+json": {
              "type": "string"
            },
            "text/plain": [
              "'What is the best way to structure a small PHP project and why?'"
            ]
          },
          "metadata": {
            "tags": []
          },
          "execution_count": 62
        }
      ]
    },
    {
      "cell_type": "code",
      "metadata": {
        "colab": {
          "base_uri": "https://localhost:8080/"
        },
        "id": "FKTR3UZRq7al",
        "outputId": "1eca204e-c907-4915-d78b-6db8ceec31f8"
      },
      "source": [
        "for i in range(2,30):\r\n",
        "    sql = \"INSERT INTO user (question1, question2) VALUES (%s, %s);\"\r\n",
        "    val = (s1[i],s2[i])\r\n",
        "    print(s1[i])\r\n",
        "    conn = mysql.connect()\r\n",
        "    cursor =conn.cursor()\r\n",
        "    cursor.execute(sql, val)\r\n",
        "    conn.commit()"
      ],
      "execution_count": null,
      "outputs": [
        {
          "output_type": "stream",
          "text": [
            "What should I say when a girl says I'm \"hot\"?\n",
            "Is it safe to give a dog Benadryl to help it sleep?\n"
          ],
          "name": "stdout"
        }
      ]
    },
    {
      "cell_type": "code",
      "metadata": {
        "id": "jrgR4MJUAOHZ"
      },
      "source": [
        "conn.commit()"
      ],
      "execution_count": null,
      "outputs": []
    },
    {
      "cell_type": "code",
      "metadata": {
        "id": "Uvy3-Uf2ra9y"
      },
      "source": [
        "sql = \"select *from user;\"\r\n",
        "conn = mysql.connect()\r\n",
        "cursor =conn.cursor()\r\n",
        "cursor.execute(sql)\r\n",
        "data=cursor.fetchall()"
      ],
      "execution_count": null,
      "outputs": []
    },
    {
      "cell_type": "code",
      "metadata": {
        "colab": {
          "base_uri": "https://localhost:8080/"
        },
        "id": "_Q9ayAEJ9WmA",
        "outputId": "e058b9fe-49ba-4e94-e162-ec7f053f774d"
      },
      "source": [
        "print(data)"
      ],
      "execution_count": null,
      "outputs": [
        {
          "output_type": "stream",
          "text": [
            "(('How do I structure a big PHP project?', 'What is the best way to structure a small PHP project and why?'), ('Is it safe to give a dog Benadryl to help it sleep?', 'Is Benadryl safe for consumption by dogs?'), ('Is it safe to give a dog Benadryl to help it sleep?', 'Is Benadryl safe for consumption by dogs?'), ('Organic Chemistry: How can I learn the order of the -I,+I, +m,-m effect easily?', 'I m poor in organic chemistry; how should I study chemistry?'), ('Why do we fix one gear in epicyclic gear train for power input?', 'Does Antarctica have any geopolitical importance?'), ('I have an IQ of 130. Will that increase as I get older?', 'What are the best aspects of living in Townsville, Queensland, Australia as a young adult?'), ('Work culture in sensen networks?', \"Rank actor's performances in Suicide Squad.\"), ('What is the scope of dgital marketing?', 'What is the scope of marketing?'), ('What are the general materials and the requirements for a black hole, is it caused by pressure?', 'How are black holes formed?'), ('How could I use both Ubuntu and Windows in my laptop?', 'How can I install ubuntu alongside my windows 10 laptop?'), ('If it shows up as pending on Snapchat did they still get the Snapchat?', 'Today “Mumbai” is Live on Snapchat. What should I do to get my “story” on Snapchat?'), ('Why do many women wear clothes that flash their bras?', 'Why do women wear bras?'), ('How much is a software engineer paid per month in India?', 'How much are software engineers paid for working in India?'), ('How do I improve leadreship skills?', 'How can we improve learning skills?'), ('What is your favorite poem that you have written?', \"What's the best poem you've written?\"), ('Why was the Indian Ocean named after India?', 'Is the Indian Ocean named after India?'), ('What are some tips for buying a Walmart refurbished TV?', 'Why is the US buying more tanks instead of fixing and refurbishing old ones?'), ('How many albums did the Beatles record?', 'What is the best song by a solo Beatle?'), ('When was the first video game created?', 'I complete by bachelor in mass communicatio degree.cani join UPSC exam.is my degree syllabus similar to UPSC optional subject?'), ('Why does Facebook give playstore update daily?', 'Is there any research in geometric analysis at Yale?'), ('How do I to become a sovereign citizen?', 'How do you become sovereign?'), ('What advice will you give for a person who is going to study medicine soon?', 'What is the advice you give for a student who is going to study medicine?'), ('I am 22, my weight is 33 kg and my height is 4.10 ft. and I am too skinny. what should I do to gain weight and height?', 'What do you believe is an accurate definition of vital energy?'), ('What are code share flights?', 'What does code sharing means?'), ('Why do people ask and answer their own questions?', 'Has anyone answered their own questions? If yes, why?'), ('Does terminal voltage effect direction of rotation of dc motor?', 'How do I reverse the direction of DC shunt motor?'), ('What law firm is representing Julian Assange from WikiLeaks?', 'Did Julian Assange give the recent release scoop to Fox News because they represent his new base?'), ('The integration of x^3 .e^(x^2) with respect x?', 'The integration of e^√x with respect x?'), ('Why MS Dhoni left captaincy though he was a successful captain?', 'Why has Dhoni left the captaincy from ODI and T20?'), ('What should I say when a girl says I\\'m \"hot\"?', \"I'm a guy. If I ask out a girl and she says no, how do I make things not awkward?\"), ('Is it safe to give a dog Benadryl to help it sleep?', 'Is Benadryl safe for consumption by dogs?'))\n"
          ],
          "name": "stdout"
        }
      ]
    },
    {
      "cell_type": "code",
      "metadata": {
        "colab": {
          "base_uri": "https://localhost:8080/"
        },
        "id": "wTZt8XnACWMR",
        "outputId": "885c9c4c-58f4-4212-941a-ec7e39b94442"
      },
      "source": [
        "print(len(data))"
      ],
      "execution_count": null,
      "outputs": [
        {
          "output_type": "stream",
          "text": [
            "31\n"
          ],
          "name": "stdout"
        }
      ]
    },
    {
      "cell_type": "code",
      "metadata": {
        "id": "IQ1AJz1-EakK"
      },
      "source": [
        "new_s1=[]\r\n",
        "new_s2=[]\r\n",
        "for i in range(31):\r\n",
        "    new_s1.append(data[i][0])\r\n",
        "    new_s2.append(data[i][1])"
      ],
      "execution_count": null,
      "outputs": []
    },
    {
      "cell_type": "code",
      "metadata": {
        "id": "Jqv8np-59XyG"
      },
      "source": [
        "new_train_q1 = tokenizer.texts_to_sequences(np.array(new_s1).astype(str))\r\n",
        "new_train_q1 = pad_sequences(new_train_q1, maxlen = 30, padding='post')\r\n",
        "\r\n",
        "# X_train_q2 = tokenizer.texts_to_sequences(np.array(listq2))\r\n",
        "new_train_q2 = tokenizer.texts_to_sequences(np.array(new_s2).astype(str))\r\n",
        "new_train_q2 = pad_sequences(new_train_q2, maxlen = 30, padding='post')"
      ],
      "execution_count": null,
      "outputs": []
    },
    {
      "cell_type": "code",
      "metadata": {
        "id": "8yYKJk0qA92t"
      },
      "source": [
        "word_index = tokenizer.word_index"
      ],
      "execution_count": null,
      "outputs": []
    },
    {
      "cell_type": "code",
      "metadata": {
        "id": "shmNM9HxA1cO"
      },
      "source": [
        "embedding_index = {}\r\n",
        "with open('/content/drive/MyDrive/Youtube-semantice-search/glove.6B.200d.txt','r') as f:\r\n",
        "    for line in f:\r\n",
        "        values = line.split()\r\n",
        "        word = values[0]\r\n",
        "        vectors = np.asarray(values[1:], 'float32')\r\n",
        "        embedding_index[word] = vectors\r\n",
        "    f.close()"
      ],
      "execution_count": null,
      "outputs": []
    },
    {
      "cell_type": "code",
      "metadata": {
        "id": "u1WuHQsWBn6M"
      },
      "source": [
        "embedding_matrix = np.random.random((len(word_index)+1, 200))\r\n",
        "for word, i in word_index.items():\r\n",
        "    embedding_vector = embedding_index.get(word)\r\n",
        "    if embedding_vector is not None:\r\n",
        "        embedding_matrix[i] = embedding_vector"
      ],
      "execution_count": null,
      "outputs": []
    },
    {
      "cell_type": "code",
      "metadata": {
        "id": "nI9SpEW-KpNo"
      },
      "source": [
        "\r\n",
        "def exponent_neg_manhattan_distance(left, right):\r\n",
        "    ''' Helper function for the similarity estimate of the LSTMs outputs'''\r\n",
        "    return K.exp(-K.sum(K.abs(left-right), axis=1, keepdims=True))"
      ],
      "execution_count": null,
      "outputs": []
    },
    {
      "cell_type": "code",
      "metadata": {
        "id": "TvagPb50Kx4O"
      },
      "source": [
        "malstm.compile(loss='mean_squared_error', optimizer=Adadelta(clipnorm=gradient_clipping_norm), metrics=['accuracy'])"
      ],
      "execution_count": null,
      "outputs": []
    },
    {
      "cell_type": "code",
      "metadata": {
        "id": "O-ioeNPwK30c"
      },
      "source": [
        "Y_train=np.array([1]*31)"
      ],
      "execution_count": null,
      "outputs": []
    },
    {
      "cell_type": "code",
      "metadata": {
        "id": "MeegwsY6K4i7"
      },
      "source": [
        "malstm_trained = malstm.fit([new_train_q1,new_train_q2],Y_train, batch_size=batch_size, epochs=n_epoch)\r\n"
      ],
      "execution_count": null,
      "outputs": []
    },
    {
      "cell_type": "code",
      "metadata": {
        "id": "abmg2h3hLJIe"
      },
      "source": [
        "p=[]\r\n",
        "for i in range(31):\r\n",
        "    p.append(np.mean(malstm.predict([new_train_q1[i],new_train_q2[i]])))"
      ],
      "execution_count": null,
      "outputs": []
    },
    {
      "cell_type": "code",
      "metadata": {
        "id": "BBH9SGFgLLKt"
      },
      "source": [
        "print(p)"
      ],
      "execution_count": null,
      "outputs": []
    }
  ]
}